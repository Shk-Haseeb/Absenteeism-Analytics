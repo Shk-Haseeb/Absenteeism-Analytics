{
 "cells": [
  {
   "cell_type": "markdown",
   "id": "0c4ccf0c",
   "metadata": {},
   "source": [
    "# 📊 Predictive Modeling: Employee Absenteeism (Regression Analysis)\n"
   ]
  },
  {
   "cell_type": "markdown",
   "id": "50f82338",
   "metadata": {},
   "source": [
    "## 📦 1. Importing Libraries & Dataset\n",
    "\n",
    "We begin by importing all necessary Python libraries for data manipulation, visualization, model building, and evaluation. These include `pandas`, `numpy`, `matplotlib`, `seaborn`, and key modules from `scikit-learn` and `xgboost`.\n",
    "\n",
    "We load the cleaned dataset `Absenteeism_Cleaned.csv`, which includes engineered features and a log-transformed target variable (`Log_Absenteeism`) for better model performance.\n"
   ]
  },
  {
   "cell_type": "code",
   "execution_count": 26,
   "id": "433e5193",
   "metadata": {},
   "outputs": [],
   "source": [
    "import pandas as pd\n",
    "import numpy as np\n",
    "import matplotlib.pyplot as plt\n",
    "import seaborn as sns\n",
    "\n",
    "from sklearn.model_selection import train_test_split\n",
    "from sklearn.linear_model import LinearRegression\n",
    "from sklearn.ensemble import RandomForestRegressor\n",
    "from sklearn.metrics import mean_squared_error, r2_score\n",
    "\n",
    "import xgboost as xgb\n"
   ]
  },
  {
   "cell_type": "code",
   "execution_count": 27,
   "id": "156bb4c3",
   "metadata": {},
   "outputs": [],
   "source": [
    "df = pd.read_csv('../data/Absenteeism_Cleaned.csv') "
   ]
  },
  {
   "cell_type": "code",
   "execution_count": 28,
   "id": "1e2f4404",
   "metadata": {},
   "outputs": [
    {
     "data": {
      "text/html": [
       "<div>\n",
       "<style scoped>\n",
       "    .dataframe tbody tr th:only-of-type {\n",
       "        vertical-align: middle;\n",
       "    }\n",
       "\n",
       "    .dataframe tbody tr th {\n",
       "        vertical-align: top;\n",
       "    }\n",
       "\n",
       "    .dataframe thead th {\n",
       "        text-align: right;\n",
       "    }\n",
       "</style>\n",
       "<table border=\"1\" class=\"dataframe\">\n",
       "  <thead>\n",
       "    <tr style=\"text-align: right;\">\n",
       "      <th></th>\n",
       "      <th>Month Value</th>\n",
       "      <th>Day of the Week</th>\n",
       "      <th>Transportation Expense</th>\n",
       "      <th>Distance to Work</th>\n",
       "      <th>Age</th>\n",
       "      <th>Daily Work Load Average</th>\n",
       "      <th>Body Mass Index</th>\n",
       "      <th>Education</th>\n",
       "      <th>Children</th>\n",
       "      <th>Pet</th>\n",
       "      <th>Absenteeism Time in Hours</th>\n",
       "      <th>Reason_Group</th>\n",
       "      <th>Log_Absenteeism</th>\n",
       "    </tr>\n",
       "  </thead>\n",
       "  <tbody>\n",
       "    <tr>\n",
       "      <th>0</th>\n",
       "      <td>7</td>\n",
       "      <td>1</td>\n",
       "      <td>289</td>\n",
       "      <td>36</td>\n",
       "      <td>33</td>\n",
       "      <td>239.554</td>\n",
       "      <td>30</td>\n",
       "      <td>0</td>\n",
       "      <td>2</td>\n",
       "      <td>1</td>\n",
       "      <td>4</td>\n",
       "      <td>4</td>\n",
       "      <td>1.609438</td>\n",
       "    </tr>\n",
       "    <tr>\n",
       "      <th>1</th>\n",
       "      <td>7</td>\n",
       "      <td>1</td>\n",
       "      <td>118</td>\n",
       "      <td>13</td>\n",
       "      <td>50</td>\n",
       "      <td>239.554</td>\n",
       "      <td>31</td>\n",
       "      <td>0</td>\n",
       "      <td>1</td>\n",
       "      <td>0</td>\n",
       "      <td>0</td>\n",
       "      <td>0</td>\n",
       "      <td>0.000000</td>\n",
       "    </tr>\n",
       "    <tr>\n",
       "      <th>2</th>\n",
       "      <td>7</td>\n",
       "      <td>2</td>\n",
       "      <td>179</td>\n",
       "      <td>51</td>\n",
       "      <td>38</td>\n",
       "      <td>239.554</td>\n",
       "      <td>31</td>\n",
       "      <td>0</td>\n",
       "      <td>0</td>\n",
       "      <td>0</td>\n",
       "      <td>2</td>\n",
       "      <td>4</td>\n",
       "      <td>1.098612</td>\n",
       "    </tr>\n",
       "    <tr>\n",
       "      <th>3</th>\n",
       "      <td>7</td>\n",
       "      <td>3</td>\n",
       "      <td>279</td>\n",
       "      <td>5</td>\n",
       "      <td>39</td>\n",
       "      <td>239.554</td>\n",
       "      <td>24</td>\n",
       "      <td>0</td>\n",
       "      <td>2</td>\n",
       "      <td>0</td>\n",
       "      <td>4</td>\n",
       "      <td>1</td>\n",
       "      <td>1.609438</td>\n",
       "    </tr>\n",
       "    <tr>\n",
       "      <th>4</th>\n",
       "      <td>7</td>\n",
       "      <td>3</td>\n",
       "      <td>289</td>\n",
       "      <td>36</td>\n",
       "      <td>33</td>\n",
       "      <td>239.554</td>\n",
       "      <td>30</td>\n",
       "      <td>0</td>\n",
       "      <td>2</td>\n",
       "      <td>1</td>\n",
       "      <td>2</td>\n",
       "      <td>4</td>\n",
       "      <td>1.098612</td>\n",
       "    </tr>\n",
       "  </tbody>\n",
       "</table>\n",
       "</div>"
      ],
      "text/plain": [
       "   Month Value  Day of the Week  Transportation Expense  Distance to Work  \\\n",
       "0            7                1                     289                36   \n",
       "1            7                1                     118                13   \n",
       "2            7                2                     179                51   \n",
       "3            7                3                     279                 5   \n",
       "4            7                3                     289                36   \n",
       "\n",
       "   Age  Daily Work Load Average  Body Mass Index  Education  Children  Pet  \\\n",
       "0   33                  239.554               30          0         2    1   \n",
       "1   50                  239.554               31          0         1    0   \n",
       "2   38                  239.554               31          0         0    0   \n",
       "3   39                  239.554               24          0         2    0   \n",
       "4   33                  239.554               30          0         2    1   \n",
       "\n",
       "   Absenteeism Time in Hours  Reason_Group  Log_Absenteeism  \n",
       "0                          4             4         1.609438  \n",
       "1                          0             0         0.000000  \n",
       "2                          2             4         1.098612  \n",
       "3                          4             1         1.609438  \n",
       "4                          2             4         1.098612  "
      ]
     },
     "execution_count": 28,
     "metadata": {},
     "output_type": "execute_result"
    }
   ],
   "source": [
    "df.head()"
   ]
  },
  {
   "cell_type": "markdown",
   "id": "ac6f0b37",
   "metadata": {},
   "source": [
    "## 📌 Define Features & Target\n",
    "We select relevant numerical and categorical features that may influence absenteeism.  \n",
    "The target variable is `'Absenteeism Time in Hours'`, which we aim to predict.\n"
   ]
  },
  {
   "cell_type": "code",
   "execution_count": 29,
   "id": "373cc6ee",
   "metadata": {},
   "outputs": [],
   "source": [
    "features = [\n",
    "    'Reason_Group', 'Month Value', 'Day of the Week', 'Transportation Expense',\n",
    "    'Distance to Work', 'Age', 'Daily Work Load Average',\n",
    "    'Body Mass Index', 'Education', 'Children', 'Pet'\n",
    "]\n",
    "\n",
    "target = 'Absenteeism Time in Hours'\n",
    "\n",
    "X = df[features]\n",
    "y = df[target]"
   ]
  },
  {
   "cell_type": "markdown",
   "id": "e86ec95e",
   "metadata": {},
   "source": [
    "## 🔀 Train-Test Split\n",
    "We split the dataset into training (80%) and testing (20%) sets to evaluate model performance fairly.\n"
   ]
  },
  {
   "cell_type": "code",
   "execution_count": 30,
   "id": "b8cfc465",
   "metadata": {},
   "outputs": [
    {
     "data": {
      "text/plain": [
       "((560, 11), (140, 11))"
      ]
     },
     "execution_count": 30,
     "metadata": {},
     "output_type": "execute_result"
    }
   ],
   "source": [
    "from sklearn.model_selection import train_test_split\n",
    "\n",
    "# Split 80% train, 20% test\n",
    "X_train, X_test, y_train, y_test = train_test_split(X, y, test_size=0.2, random_state=42)\n",
    "\n",
    "# Check shapes\n",
    "X_train.shape, X_test.shape"
   ]
  },
  {
   "cell_type": "markdown",
   "id": "afc5227c",
   "metadata": {},
   "source": [
    "## 📈 Train Linear Regression Model\n",
    "We begin with a baseline Linear Regression model to understand linear relationships between features and absenteeism.\n"
   ]
  },
  {
   "cell_type": "code",
   "execution_count": 31,
   "id": "26c9e00e",
   "metadata": {},
   "outputs": [
    {
     "data": {
      "text/plain": [
       "LinearRegression()"
      ]
     },
     "execution_count": 31,
     "metadata": {},
     "output_type": "execute_result"
    }
   ],
   "source": [
    "from sklearn.linear_model import LinearRegression\n",
    "\n",
    "model = LinearRegression()\n",
    "\n",
    "model.fit(X_train, y_train)"
   ]
  },
  {
   "cell_type": "markdown",
   "id": "c36da005",
   "metadata": {},
   "source": [
    "## 📊 Evaluate Linear Regression Model\n",
    "\n",
    "We use R² (coefficient of determination) and RMSE (Root Mean Squared Error) to assess model performance.\n",
    "\n",
    "- **R² Score:** Indicates the proportion of variance explained by the model.  \n",
    "- **RMSE:** Measures average prediction error in the original units.\n",
    "\n",
    "The plot compares actual vs predicted absenteeism to visually assess model fit.\n"
   ]
  },
  {
   "cell_type": "code",
   "execution_count": 32,
   "id": "36392dc9",
   "metadata": {},
   "outputs": [
    {
     "name": "stdout",
     "output_type": "stream",
     "text": [
      "R² Score: 0.06\n",
      "RMSE: 12.11\n"
     ]
    }
   ],
   "source": [
    "from sklearn.metrics import mean_squared_error, r2_score\n",
    "import numpy as np\n",
    "\n",
    "y_pred = model.predict(X_test)\n",
    "\n",
    "r2 = r2_score(y_test, y_pred)\n",
    "\n",
    "rmse = np.sqrt(mean_squared_error(y_test, y_pred))\n",
    "\n",
    "print(f\"R² Score: {r2:.2f}\")\n",
    "print(f\"RMSE: {rmse:.2f}\")"
   ]
  },
  {
   "cell_type": "code",
   "execution_count": 33,
   "id": "af12e1aa",
   "metadata": {},
   "outputs": [
    {
     "data": {
      "image/png": "[encoded data removed]",
      "text/plain": [
       "<Figure size 432x288 with 1 Axes>"
      ]
     },
     "metadata": {
      "needs_background": "light"
     },
     "output_type": "display_data"
    }
   ],
   "source": [
    "plt.figure(figsize=(6, 4))\n",
    "sns.scatterplot(x=y_test, y=y_pred)\n",
    "plt.xlabel(\"Actual Absenteeism\")\n",
    "plt.ylabel(\"Predicted Absenteeism\")\n",
    "plt.title(\"Actual vs Predicted Absenteeism Time\")\n",
    "plt.plot([0, max(y_test)], [0, max(y_test)], color='red', linestyle='--')\n",
    "plt.show()"
   ]
  },
  {
   "cell_type": "markdown",
   "id": "75877a75",
   "metadata": {},
   "source": [
    "## 🌲 Random Forest Regression & Feature Insights\n",
    "\n",
    "We now train a Random Forest Regressor on the log-transformed absenteeism hours to improve performance.\n",
    "\n",
    "- **Model Training:** Uses 100 decision trees with fixed random state.\n",
    "- **Evaluation:** Assessed with R² and RMSE on both log scale and original hour units.\n",
    "- **Performance:** Shows significant improvement over linear regression.\n",
    "- **Feature Importance:** Visualized to understand which variables drive absenteeism predictions.\n",
    "\n",
    "Key takeaway: The Random Forest model captures more complex patterns and highlights impactful features like `Reason_Group` and `Daily Work Load Average`.\n"
   ]
  },
  {
   "cell_type": "code",
   "execution_count": 13,
   "id": "50ac8300",
   "metadata": {},
   "outputs": [],
   "source": [
    "df['Log_Absenteeism'] = np.log1p(df['Absenteeism Time in Hours'])\n",
    "\n",
    "# Redefine target for this model\n",
    "y_log = df['Log_Absenteeism']"
   ]
  },
  {
   "cell_type": "code",
   "execution_count": 14,
   "id": "dc30af74",
   "metadata": {},
   "outputs": [],
   "source": [
    "X_train, X_test, y_train_log, y_test_log = train_test_split(X, y_log, test_size=0.2, random_state=42)\n"
   ]
  },
  {
   "cell_type": "code",
   "execution_count": 15,
   "id": "57c2a978",
   "metadata": {},
   "outputs": [
    {
     "name": "stdout",
     "output_type": "stream",
     "text": [
      "Random Forest R²: 0.46\n",
      "Random Forest RMSE (log scale): 0.60\n"
     ]
    }
   ],
   "source": [
    "rf = RandomForestRegressor(n_estimators=100, random_state=42)\n",
    "rf.fit(X_train, y_train_log)\n",
    "\n",
    "y_pred_log = rf.predict(X_test)\n",
    "\n",
    "r2 = r2_score(y_test_log, y_pred_log)\n",
    "rmse = np.sqrt(mean_squared_error(y_test_log, y_pred_log))\n",
    "\n",
    "print(f\"Random Forest R²: {r2:.2f}\")\n",
    "print(f\"Random Forest RMSE (log scale): {rmse:.2f}\")"
   ]
  },
  {
   "cell_type": "code",
   "execution_count": 16,
   "id": "b218c5f8",
   "metadata": {},
   "outputs": [
    {
     "name": "stdout",
     "output_type": "stream",
     "text": [
      "Random Forest RMSE (original hours): 11.24\n"
     ]
    }
   ],
   "source": [
    "y_pred_original = np.expm1(y_pred_log)\n",
    "y_test_original = np.expm1(y_test_log)\n",
    "\n",
    "rmse_original = np.sqrt(mean_squared_error(y_test_original, y_pred_original))\n",
    "print(f\"Random Forest RMSE (original hours): {rmse_original:.2f}\")"
   ]
  },
  {
   "cell_type": "code",
   "execution_count": 17,
   "id": "6dacc691",
   "metadata": {},
   "outputs": [
    {
     "data": {
      "image/png": "[encoded data removed]",
      "text/plain": [
       "<Figure size 576x432 with 1 Axes>"
      ]
     },
     "metadata": {
      "needs_background": "light"
     },
     "output_type": "display_data"
    }
   ],
   "source": [
    "feature_importance = pd.Series(rf.feature_importances_, index=X.columns)\n",
    "feature_importance = feature_importance.sort_values(ascending=True)\n",
    "\n",
    "plt.figure(figsize=(8, 6))\n",
    "sns.barplot(x=feature_importance, y=feature_importance.index)\n",
    "plt.title(\"Feature Importance (Random Forest)\")\n",
    "plt.xlabel(\"Importance Score\")\n",
    "plt.ylabel(\"Feature\")\n",
    "plt.show()"
   ]
  },
  {
   "cell_type": "markdown",
   "id": "b06e7cf4",
   "metadata": {},
   "source": [
    "## ⚡ XGBoost Regression & Feature Insights\n",
    "\n",
    "We apply the XGBoost Regressor to model absenteeism using log-transformed targets for better distribution.\n",
    "\n",
    "- **Training Setup:** 100 estimators, learning rate of 0.1, with random state for reproducibility.\n",
    "- **Evaluation:** Compared on R² and RMSE, both in log scale and original hours.\n",
    "- **Performance:** Performs competitively with Random Forest, suggesting consistent accuracy.\n",
    "- **Feature Importance:** Highlights the top predictive drivers such as `Reason_Group`, `Education`, and `Transportation Expense`.\n",
    "\n",
    "XGBoost provides strong predictive power with fast execution, and helps identify the most influential factors behind employee absenteeism.\n"
   ]
  },
  {
   "cell_type": "code",
   "execution_count": 18,
   "id": "2fa7dc78",
   "metadata": {},
   "outputs": [
    {
     "name": "stdout",
     "output_type": "stream",
     "text": [
      "Defaulting to user installation because normal site-packages is not writeable\n",
      "Requirement already satisfied: xgboost in /home/shhaseeb/.local/lib/python3.10/site-packages (3.0.2)\n",
      "Requirement already satisfied: numpy in /usr/lib/python3/dist-packages (from xgboost) (1.21.5)\n",
      "Requirement already satisfied: scipy in /usr/lib/python3/dist-packages (from xgboost) (1.8.0)\n",
      "Requirement already satisfied: nvidia-nccl-cu12 in /home/shhaseeb/.local/lib/python3.10/site-packages (from xgboost) (2.27.3)\n"
     ]
    }
   ],
   "source": [
    "import sys\n",
    "!{sys.executable} -m pip install xgboost"
   ]
  },
  {
   "cell_type": "code",
   "execution_count": 20,
   "id": "84f3566c",
   "metadata": {},
   "outputs": [],
   "source": [
    "from xgboost import XGBRegressor\n",
    "\n",
    "xgb = XGBRegressor(n_estimators=100, learning_rate=0.1, random_state=42)\n",
    "\n",
    "xgb.fit(X_train, y_train_log)\n",
    "\n",
    "y_pred_xgb_log = xgb.predict(X_test)"
   ]
  },
  {
   "cell_type": "code",
   "execution_count": 21,
   "id": "e25df3a4",
   "metadata": {},
   "outputs": [
    {
     "name": "stdout",
     "output_type": "stream",
     "text": [
      "XGBoost R² (log): 0.42\n",
      "XGBoost RMSE (log): 0.63\n",
      "XGBoost RMSE (original hours): 11.83\n"
     ]
    }
   ],
   "source": [
    "from sklearn.metrics import mean_squared_error, r2_score\n",
    "\n",
    "r2_xgb = r2_score(y_test_log, y_pred_xgb_log)\n",
    "rmse_xgb_log = np.sqrt(mean_squared_error(y_test_log, y_pred_xgb_log))\n",
    "\n",
    "y_pred_xgb_original = np.expm1(y_pred_xgb_log)\n",
    "y_test_original = np.expm1(y_test_log)\n",
    "rmse_xgb_original = np.sqrt(mean_squared_error(y_test_original, y_pred_xgb_original))\n",
    "\n",
    "print(f\"XGBoost R² (log): {r2_xgb:.2f}\")\n",
    "print(f\"XGBoost RMSE (log): {rmse_xgb_log:.2f}\")\n",
    "print(f\"XGBoost RMSE (original hours): {rmse_xgb_original:.2f}\")"
   ]
  },
  {
   "cell_type": "code",
   "execution_count": 23,
   "id": "5fdf43c6",
   "metadata": {},
   "outputs": [
    {
     "data": {
      "image/png": "[encoded data removed]",
      "text/plain": [
       "<Figure size 576x432 with 1 Axes>"
      ]
     },
     "metadata": {
      "needs_background": "light"
     },
     "output_type": "display_data"
    }
   ],
   "source": [
    "xgb_importance = pd.Series(xgb.feature_importances_, index=X.columns).sort_values()\n",
    "\n",
    "plt.figure(figsize=(8, 6))\n",
    "sns.barplot(x=xgb_importance, y=xgb_importance.index)\n",
    "plt.title(\"Feature Importance (XGBoost)\")\n",
    "plt.xlabel(\"Importance Score\")\n",
    "plt.ylabel(\"Feature\")\n",
    "plt.show()"
   ]
  },
  {
   "cell_type": "markdown",
   "id": "073ffdc2",
   "metadata": {},
   "source": [
    "## 💾 Export Data for Tableau Dashboard\n",
    "\n",
    "We select the most relevant columns for visualization and save the cleaned dataset as a `.csv` file for Tableau.\n",
    "\n",
    "- Focused on key features like `Reason_Group`, `Month`, `Education`, `Children`, `Pet`, etc.\n",
    "- Ensures a structured and interpretable dataset for building interactive dashboards.\n",
    "\n",
    "📁 Output file: `Absenteeism_for_Tableau.csv`\n"
   ]
  },
  {
   "cell_type": "code",
   "execution_count": 24,
   "id": "58fa5549",
   "metadata": {},
   "outputs": [],
   "source": [
    "# Columns to keep for Tableau\n",
    "tableau_df = df[[\n",
    "    'Reason_Group', 'Month Value', 'Day of the Week', 'Transportation Expense',\n",
    "    'Distance to Work', 'Age', 'Daily Work Load Average',\n",
    "    'Body Mass Index', 'Education', 'Children', 'Pet',\n",
    "    'Absenteeism Time in Hours'\n",
    "]]\n",
    "\n",
    "# Save to CSV\n",
    "tableau_df.to_csv('Absenteeism_for_Tableau.csv', index=False)"
   ]
  }
 ],
 "metadata": {
  "kernelspec": {
   "display_name": "Python 3 (ipykernel)",
   "language": "python",
   "name": "python3"
  },
  "language_info": {
   "codemirror_mode": {
    "name": "ipython",
    "version": 3
   },
   "file_extension": ".py",
   "mimetype": "text/x-python",
   "name": "python",
   "nbconvert_exporter": "python",
   "pygments_lexer": "ipython3",
   "version": "3.10.12"
  }
 },
 "nbformat": 4,
 "nbformat_minor": 5
}
